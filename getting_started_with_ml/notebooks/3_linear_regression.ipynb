{
 "cells": [
  {
   "cell_type": "markdown",
   "metadata": {},
   "source": [
    "# Linear Regression\n",
    "Rather than guessing  or brute force this, we can use a library to find the optimal regression coefficients.\n",
    "\n",
    "First, let's define our problem:"
   ]
  },
  {
   "cell_type": "markdown",
   "metadata": {},
   "source": [
    ">### *Problem*\n",
    "> \n",
    ">  \n",
    ">Find $w_0, w_1$ such that $w_1 \\cdot OverallQual + w_0$ gives the most accurate predictions (as measured by mean absolute error.)  \n",
    "\n",
    "\n",
    "This is a problem of model fitting, not model evaluation, so we use the train data set. \n",
    "\n",
    "\n",
    "## Scikit-Learn library\n",
    "\n",
    "In the code below we make use of the the Scitkit-Learn library that provides us with functions to create and train a model. \n",
    "\n",
    "Use the [Scikit-Learn Cheat Sheet](https://s3.amazonaws.com/assets.datacamp.com/blog_assets/Scikit_Learn_Cheat_Sheet_Python.pdf) to help you understand the code below."
   ]
  },
  {
   "cell_type": "code",
   "execution_count": null,
   "metadata": {},
   "outputs": [],
   "source": [
    "# Load modules\n",
    "import pandas as pd\n",
    "import numpy as np\n",
    "from sklearn import linear_model\n",
    "import matplotlib.pyplot as plt"
   ]
  },
  {
   "cell_type": "code",
   "execution_count": null,
   "metadata": {},
   "outputs": [],
   "source": [
    "# Use same evaluate_model function as before\n",
    "def evaluate_model(model_fn, print_result=False):\n",
    "    '''\n",
    "    Consumes a function model_fn\n",
    "    and evaluates its predictive accuracy against \n",
    "    the housing prices test set.\n",
    "    We have included a switch for the output to be a more human readable\n",
    "    printed version or the uncurtailed floating point value of the average.\n",
    "    '''\n",
    "    test_data = pd.read_csv(\"https://raw.githubusercontent.com/eliiza/ml-training-data/master/housing_price_data/test_data.csv\")\n",
    "    actual_values = test_data['SalePrice']\n",
    "    # Pass in all columns except SalePrice\n",
    "    test_input = test_data.filter(regex='^(?!SalePrice$).*')\n",
    "    predicted_saleprice = model_fn(test_input)\n",
    "    mae = np.mean(np.abs(predicted_saleprice-actual_values))\n",
    "    if print_result:\n",
    "        return print(\"The model is inaccurate by $%.2f on average.\" % mae)\n",
    "    else:\n",
    "        return mae"
   ]
  },
  {
   "cell_type": "code",
   "execution_count": null,
   "metadata": {},
   "outputs": [],
   "source": [
    "# Load training set from Eliiza's GitHub (split and saved already)\n",
    "training_set = pd.read_csv(\"https://raw.githubusercontent.com/eliiza/ml-training-data/master/housing_price_data/training_data.csv\")"
   ]
  },
  {
   "cell_type": "markdown",
   "metadata": {},
   "source": [
    "## Linear Regression: OverallQual"
   ]
  },
  {
   "cell_type": "markdown",
   "metadata": {},
   "source": [
    "We will use the linear regression function `sklearn.linear_model.LinearRegression()`. As for the workflow in the previous notebook, we need to write a function that contains the model and returns predictions when given input data (`quality_linear_model`). This is so that we can use the pre-written `evaluate_model()` function."
   ]
  },
  {
   "cell_type": "code",
   "execution_count": null,
   "metadata": {},
   "outputs": [],
   "source": [
    "# Create linear regression model based on a training set with 'OverallQual' column and 'SalePrice' column\n",
    "# and return the model prediction function\n",
    "    \n",
    "# Create feature column and train model\n",
    "training_features = training_set[['OverallQual']]\n",
    "predictor = linear_model.LinearRegression()\n",
    "predictor.fit(training_features, training_set['SalePrice'])\n",
    "    \n",
    "# Define a function which returns predictions using this model when given input data\n",
    "def quality_linear_model(input_data):\n",
    "    return(predictor.predict(input_data[['OverallQual']]))"
   ]
  },
  {
   "cell_type": "code",
   "execution_count": null,
   "metadata": {
    "scrolled": true
   },
   "outputs": [],
   "source": [
    "# Evaluate model\n",
    "# The evaluate model function needs a second argument to print a text comment instead of just returning a number\n",
    "evaluate_model(quality_linear_model, print_result=True)"
   ]
  },
  {
   "cell_type": "markdown",
   "metadata": {},
   "source": [
    "Let's examine the differences between predicted and actual value."
   ]
  },
  {
   "cell_type": "code",
   "execution_count": null,
   "metadata": {},
   "outputs": [],
   "source": [
    "# Create copy of training set data frame and add columns with the predictions from the linear model above\n",
    "# and the difference between the predictions and actual prices\n",
    "quality_example = training_set.copy()\n",
    "quality_example['Predicted'] = quality_linear_model(quality_example)\n",
    "quality_example['Error'] = quality_example['Predicted'] - quality_example['SalePrice']\n",
    "quality_example['Error'].plot() \n",
    "plt.xlabel(\"House_id\")\n",
    "plt.ylabel(\"Error\")"
   ]
  },
  {
   "cell_type": "markdown",
   "metadata": {},
   "source": [
    "We can inspect the outliers by sorting the dataframe"
   ]
  },
  {
   "cell_type": "code",
   "execution_count": null,
   "metadata": {
    "scrolled": true
   },
   "outputs": [],
   "source": [
    "# This returns the 5 houses with the largest positive error and the 5 houses with the largest negative error\n",
    "quality_example.sort_values(\"Error\")"
   ]
  },
  {
   "cell_type": "markdown",
   "metadata": {},
   "source": [
    "**Question:** Is a positive error value related to over- or under-estimating the price of the house?"
   ]
  },
  {
   "cell_type": "markdown",
   "metadata": {},
   "source": [
    "## Exercise\n",
    "Why do you think the houses with the largest error (outliers) are so cheap/expensive compared with our predictions? Remember you can look at individual columns by using `quality_example[[\"column1\",\"column2\",...]]`\n",
    "\n",
    "**Hint:** Some useful attributes to examine might be the number of bedrooms, the number of bathrooms and the age of the house. But it might not be possible to explain every outlier!\n",
    "\n",
    "**Optional:** Try contrasting the outliers with more accurate predictions (`Error` values close to zero)."
   ]
  },
  {
   "cell_type": "code",
   "execution_count": null,
   "metadata": {},
   "outputs": [],
   "source": []
  },
  {
   "cell_type": "markdown",
   "metadata": {},
   "source": [
    "## Exercise\n",
    "\n",
    "Build a linear regression model for predicting SalePrice as a function of `GrLivArea` - another variable with high correlation with `SalePrice`."
   ]
  },
  {
   "cell_type": "code",
   "execution_count": null,
   "metadata": {},
   "outputs": [],
   "source": []
  },
  {
   "cell_type": "markdown",
   "metadata": {},
   "source": [
    "Plot the errors and examine the outliers as above for this new model."
   ]
  },
  {
   "cell_type": "code",
   "execution_count": null,
   "metadata": {},
   "outputs": [],
   "source": []
  }
 ],
 "metadata": {
  "kernelspec": {
   "display_name": "Python 3",
   "language": "python",
   "name": "python3"
  },
  "language_info": {
   "codemirror_mode": {
    "name": "ipython",
    "version": 3
   },
   "file_extension": ".py",
   "mimetype": "text/x-python",
   "name": "python",
   "nbconvert_exporter": "python",
   "pygments_lexer": "ipython3",
   "version": "3.7.3"
  }
 },
 "nbformat": 4,
 "nbformat_minor": 4
}
